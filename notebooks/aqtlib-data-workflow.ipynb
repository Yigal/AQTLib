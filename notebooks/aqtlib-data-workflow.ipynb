{
 "cells": [
  {
   "cell_type": "markdown",
   "metadata": {},
   "source": [
    "# Data Workflow\n",
    "\n",
    "\n",
    "AQTLib: Asynchronous Quantitative Trading Library<br>\n",
    "https://github.com/kelvingao/AQTLib\n",
    "\n",
    "Copyright &copy; 2020 Kelvin Gao"
   ]
  },
  {
   "cell_type": "markdown",
   "metadata": {},
   "source": [
    "## Overview\n",
    "\n",
    "This Jupyter Notebook includes some handly methods for working with external data sources when backtesting. Let's start by checking out AQTLib's version:"
   ]
  },
  {
   "cell_type": "code",
   "execution_count": 1,
   "metadata": {},
   "outputs": [
    {
     "data": {
      "text/plain": [
       "'0.3.1'"
      ]
     },
     "execution_count": 1,
     "metadata": {},
     "output_type": "execute_result"
    }
   ],
   "source": [
    "import aqtlib\n",
    "aqtlib.__version__"
   ]
  },
  {
   "cell_type": "markdown",
   "metadata": {},
   "source": [
    "Let's take a look at what's inside the ``aqtlib`` package:"
   ]
  },
  {
   "cell_type": "code",
   "execution_count": 2,
   "metadata": {},
   "outputs": [
    {
     "name": "stdout",
     "output_type": "stream",
     "text": [
      "['util', 'schema', 'Object', 'PG', 'Garner', 'Algo', 'Instrument']\n"
     ]
    }
   ],
   "source": [
    "print(aqtlib.__all__)"
   ]
  },
  {
   "cell_type": "markdown",
   "metadata": {},
   "source": [
    "## 1. Working with External Data\n",
    "\n",
    "Sometimes, you want to backtest your strategies using market data you already have from sources other than the ``Porter``. Before you can use market data from external data sources, you'll need to convert it into a AQTLib-compatible data format.\n",
    "\n",
    "Once the data is converted, it can be read by your strategies as CSV files."
   ]
  },
  {
   "cell_type": "markdown",
   "metadata": {},
   "source": [
    "### 1.1 Downloading Data\n",
    "\n",
    "There are several methods for downloading market data from either Yahoo! Finance or Interactive Brokers. The methods are:\n",
    "\n",
    "- `get_data_yahoo()` - downloads daily bars from Yahoo! finance\n",
    "\n",
    "\n",
    "In this example, let's first download daily bars for AAPL Stock from Yahoo! finance, so we'll have some data to work with..."
   ]
  },
  {
   "cell_type": "code",
   "execution_count": 3,
   "metadata": {},
   "outputs": [
    {
     "data": {
      "text/html": [
       "<div>\n",
       "<style scoped>\n",
       "    .dataframe tbody tr th:only-of-type {\n",
       "        vertical-align: middle;\n",
       "    }\n",
       "\n",
       "    .dataframe tbody tr th {\n",
       "        vertical-align: top;\n",
       "    }\n",
       "\n",
       "    .dataframe thead th {\n",
       "        text-align: right;\n",
       "    }\n",
       "</style>\n",
       "<table border=\"1\" class=\"dataframe\">\n",
       "  <thead>\n",
       "    <tr style=\"text-align: right;\">\n",
       "      <th></th>\n",
       "      <th>High</th>\n",
       "      <th>Low</th>\n",
       "      <th>Open</th>\n",
       "      <th>Close</th>\n",
       "      <th>Volume</th>\n",
       "      <th>Adj Close</th>\n",
       "    </tr>\n",
       "    <tr>\n",
       "      <th>Date</th>\n",
       "      <th></th>\n",
       "      <th></th>\n",
       "      <th></th>\n",
       "      <th></th>\n",
       "      <th></th>\n",
       "      <th></th>\n",
       "    </tr>\n",
       "  </thead>\n",
       "  <tbody>\n",
       "    <tr>\n",
       "      <td>2020-09-30</td>\n",
       "      <td>117.260002</td>\n",
       "      <td>113.620003</td>\n",
       "      <td>113.790001</td>\n",
       "      <td>115.809998</td>\n",
       "      <td>142675200.0</td>\n",
       "      <td>115.809998</td>\n",
       "    </tr>\n",
       "    <tr>\n",
       "      <td>2020-10-01</td>\n",
       "      <td>117.720001</td>\n",
       "      <td>115.830002</td>\n",
       "      <td>117.639999</td>\n",
       "      <td>116.790001</td>\n",
       "      <td>116120400.0</td>\n",
       "      <td>116.790001</td>\n",
       "    </tr>\n",
       "    <tr>\n",
       "      <td>2020-10-02</td>\n",
       "      <td>115.370003</td>\n",
       "      <td>112.220001</td>\n",
       "      <td>112.889999</td>\n",
       "      <td>113.019997</td>\n",
       "      <td>144712000.0</td>\n",
       "      <td>113.019997</td>\n",
       "    </tr>\n",
       "    <tr>\n",
       "      <td>2020-10-05</td>\n",
       "      <td>116.650002</td>\n",
       "      <td>113.550003</td>\n",
       "      <td>113.910004</td>\n",
       "      <td>116.500000</td>\n",
       "      <td>106243800.0</td>\n",
       "      <td>116.500000</td>\n",
       "    </tr>\n",
       "    <tr>\n",
       "      <td>2020-10-06</td>\n",
       "      <td>116.120003</td>\n",
       "      <td>112.250000</td>\n",
       "      <td>115.699997</td>\n",
       "      <td>113.160004</td>\n",
       "      <td>160904100.0</td>\n",
       "      <td>113.160004</td>\n",
       "    </tr>\n",
       "  </tbody>\n",
       "</table>\n",
       "</div>"
      ],
      "text/plain": [
       "                  High         Low        Open       Close       Volume  \\\n",
       "Date                                                                      \n",
       "2020-09-30  117.260002  113.620003  113.790001  115.809998  142675200.0   \n",
       "2020-10-01  117.720001  115.830002  117.639999  116.790001  116120400.0   \n",
       "2020-10-02  115.370003  112.220001  112.889999  113.019997  144712000.0   \n",
       "2020-10-05  116.650002  113.550003  113.910004  116.500000  106243800.0   \n",
       "2020-10-06  116.120003  112.250000  115.699997  113.160004  160904100.0   \n",
       "\n",
       "             Adj Close  \n",
       "Date                    \n",
       "2020-09-30  115.809998  \n",
       "2020-10-01  116.790001  \n",
       "2020-10-02  113.019997  \n",
       "2020-10-05  116.500000  \n",
       "2020-10-06  113.160004  "
      ]
     },
     "execution_count": 3,
     "metadata": {},
     "output_type": "execute_result"
    }
   ],
   "source": [
    "from pandas_datareader import data as pdr\n",
    "\n",
    "aapl = pdr.get_data_yahoo(\"AAPL\", start=\"2008-01-02\")\n",
    "aapl.tail()"
   ]
  },
  {
   "cell_type": "markdown",
   "metadata": {},
   "source": [
    "### 1.2 Convert data into a AQTLib-compatible data format\n",
    "\n",
    "Once you have your existing data loaded as a `pd.DataFrame`, it's time to convert it into a AQTLib-compatible data format by using the `prepare_data()` method and passing our data and the **IB-Compatible contract tuple or string** as the first argument."
   ]
  },
  {
   "cell_type": "code",
   "execution_count": 4,
   "metadata": {},
   "outputs": [
    {
     "data": {
      "text/html": [
       "<div>\n",
       "<style scoped>\n",
       "    .dataframe tbody tr th:only-of-type {\n",
       "        vertical-align: middle;\n",
       "    }\n",
       "\n",
       "    .dataframe tbody tr th {\n",
       "        vertical-align: top;\n",
       "    }\n",
       "\n",
       "    .dataframe thead th {\n",
       "        text-align: right;\n",
       "    }\n",
       "</style>\n",
       "<table border=\"1\" class=\"dataframe\">\n",
       "  <thead>\n",
       "    <tr style=\"text-align: right;\">\n",
       "      <th></th>\n",
       "      <th>high</th>\n",
       "      <th>low</th>\n",
       "      <th>open</th>\n",
       "      <th>close</th>\n",
       "      <th>volume</th>\n",
       "      <th>symbol</th>\n",
       "      <th>symbol_group</th>\n",
       "      <th>asset_class</th>\n",
       "      <th>expiry</th>\n",
       "    </tr>\n",
       "    <tr>\n",
       "      <th>datetime</th>\n",
       "      <th></th>\n",
       "      <th></th>\n",
       "      <th></th>\n",
       "      <th></th>\n",
       "      <th></th>\n",
       "      <th></th>\n",
       "      <th></th>\n",
       "      <th></th>\n",
       "      <th></th>\n",
       "    </tr>\n",
       "  </thead>\n",
       "  <tbody>\n",
       "    <tr>\n",
       "      <td>2020-09-30 00:00:00+00:00</td>\n",
       "      <td>117.260002</td>\n",
       "      <td>113.620003</td>\n",
       "      <td>113.790001</td>\n",
       "      <td>115.809998</td>\n",
       "      <td>142675200.0</td>\n",
       "      <td>AAPL</td>\n",
       "      <td>AAPL</td>\n",
       "      <td>STK</td>\n",
       "      <td>NaN</td>\n",
       "    </tr>\n",
       "    <tr>\n",
       "      <td>2020-10-01 00:00:00+00:00</td>\n",
       "      <td>117.720001</td>\n",
       "      <td>115.830002</td>\n",
       "      <td>117.639999</td>\n",
       "      <td>116.790001</td>\n",
       "      <td>116120400.0</td>\n",
       "      <td>AAPL</td>\n",
       "      <td>AAPL</td>\n",
       "      <td>STK</td>\n",
       "      <td>NaN</td>\n",
       "    </tr>\n",
       "    <tr>\n",
       "      <td>2020-10-02 00:00:00+00:00</td>\n",
       "      <td>115.370003</td>\n",
       "      <td>112.220001</td>\n",
       "      <td>112.889999</td>\n",
       "      <td>113.019997</td>\n",
       "      <td>144712000.0</td>\n",
       "      <td>AAPL</td>\n",
       "      <td>AAPL</td>\n",
       "      <td>STK</td>\n",
       "      <td>NaN</td>\n",
       "    </tr>\n",
       "    <tr>\n",
       "      <td>2020-10-05 00:00:00+00:00</td>\n",
       "      <td>116.650002</td>\n",
       "      <td>113.550003</td>\n",
       "      <td>113.910004</td>\n",
       "      <td>116.500000</td>\n",
       "      <td>106243800.0</td>\n",
       "      <td>AAPL</td>\n",
       "      <td>AAPL</td>\n",
       "      <td>STK</td>\n",
       "      <td>NaN</td>\n",
       "    </tr>\n",
       "    <tr>\n",
       "      <td>2020-10-06 00:00:00+00:00</td>\n",
       "      <td>116.120003</td>\n",
       "      <td>112.250000</td>\n",
       "      <td>115.699997</td>\n",
       "      <td>113.160004</td>\n",
       "      <td>160904100.0</td>\n",
       "      <td>AAPL</td>\n",
       "      <td>AAPL</td>\n",
       "      <td>STK</td>\n",
       "      <td>NaN</td>\n",
       "    </tr>\n",
       "  </tbody>\n",
       "</table>\n",
       "</div>"
      ],
      "text/plain": [
       "                                 high         low        open       close  \\\n",
       "datetime                                                                    \n",
       "2020-09-30 00:00:00+00:00  117.260002  113.620003  113.790001  115.809998   \n",
       "2020-10-01 00:00:00+00:00  117.720001  115.830002  117.639999  116.790001   \n",
       "2020-10-02 00:00:00+00:00  115.370003  112.220001  112.889999  113.019997   \n",
       "2020-10-05 00:00:00+00:00  116.650002  113.550003  113.910004  116.500000   \n",
       "2020-10-06 00:00:00+00:00  116.120003  112.250000  115.699997  113.160004   \n",
       "\n",
       "                                volume symbol symbol_group asset_class  expiry  \n",
       "datetime                                                                        \n",
       "2020-09-30 00:00:00+00:00  142675200.0   AAPL         AAPL         STK     NaN  \n",
       "2020-10-01 00:00:00+00:00  116120400.0   AAPL         AAPL         STK     NaN  \n",
       "2020-10-02 00:00:00+00:00  144712000.0   AAPL         AAPL         STK     NaN  \n",
       "2020-10-05 00:00:00+00:00  106243800.0   AAPL         AAPL         STK     NaN  \n",
       "2020-10-06 00:00:00+00:00  160904100.0   AAPL         AAPL         STK     NaN  "
      ]
     },
     "execution_count": 4,
     "metadata": {},
     "output_type": "execute_result"
    }
   ],
   "source": [
    "# prepare data for usage by AQTLib\n",
    "from aqtlib import util\n",
    "\n",
    "instrument = (\"AAPL\", \"STK\")\n",
    "df = util.prepare_data(instrument, data=aapl, output_path=\"~/Desktop\")\n",
    "df.tail()"
   ]
  },
  {
   "cell_type": "markdown",
   "metadata": {},
   "source": [
    "The resulting CSV file will be saved in `~/Desktop/AAPL.BAR.csv`"
   ]
  },
  {
   "cell_type": "markdown",
   "metadata": {},
   "source": [
    "### 1.3 Using CSV files when Backtesting\n",
    "\n",
    "Once you have your CSV files in a AQTLib-compatible format, you can backtest using this data using the `--data` flag when running your backtests.\n",
    "\n",
    "Example:\n",
    "\n",
    "```\n",
    "$ python strategy.py --backtest --start 2008-01-02 --data ~/Desktop --output ~/portfolio.pkl\n",
    "```\n",
    "\n",
    "\n",
    "---"
   ]
  }
 ],
 "metadata": {
  "kernelspec": {
   "display_name": "aqtlib_env",
   "language": "python",
   "name": "aqtlib_env"
  },
  "language_info": {
   "codemirror_mode": {
    "name": "ipython",
    "version": 3
   },
   "file_extension": ".py",
   "mimetype": "text/x-python",
   "name": "python",
   "nbconvert_exporter": "python",
   "pygments_lexer": "ipython3",
   "version": "3.7.4"
  }
 },
 "nbformat": 4,
 "nbformat_minor": 2
}
